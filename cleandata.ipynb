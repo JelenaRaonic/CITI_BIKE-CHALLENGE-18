{
 "cells": [
  {
   "cell_type": "code",
   "execution_count": 1,
   "metadata": {},
   "outputs": [],
   "source": [
    "import os\n",
    "from os import chdir\n",
    "from glob import glob\n",
    "import pandas as pd\n",
    "import csv git cl\n",
    "import numpy as np"
   ]
  },
  {
   "cell_type": "markdown",
   "metadata": {},
   "source": [
    "----\n",
    "### Import CSV files"
   ]
  },
  {
   "cell_type": "code",
   "execution_count": 2,
   "metadata": {},
   "outputs": [],
   "source": [
    "\n",
    "citi_bike_jun24 = pd.read_csv('/Users/jelenaraonic/UofTBootcamp/Homework/CITI_BIKE-CHALLENGE-18/Resources/JC-202406-citibike-tripdata.csv')"
   ]
  },
  {
   "cell_type": "markdown",
   "metadata": {},
   "source": [
    "----\n",
    "### Explore data June 2024"
   ]
  },
  {
   "cell_type": "code",
   "execution_count": 3,
   "metadata": {},
   "outputs": [
    {
     "data": {
      "text/html": [
       "<div>\n",
       "<style scoped>\n",
       "    .dataframe tbody tr th:only-of-type {\n",
       "        vertical-align: middle;\n",
       "    }\n",
       "\n",
       "    .dataframe tbody tr th {\n",
       "        vertical-align: top;\n",
       "    }\n",
       "\n",
       "    .dataframe thead th {\n",
       "        text-align: right;\n",
       "    }\n",
       "</style>\n",
       "<table border=\"1\" class=\"dataframe\">\n",
       "  <thead>\n",
       "    <tr style=\"text-align: right;\">\n",
       "      <th></th>\n",
       "      <th>ride_id</th>\n",
       "      <th>rideable_type</th>\n",
       "      <th>started_at</th>\n",
       "      <th>ended_at</th>\n",
       "      <th>start_station_name</th>\n",
       "      <th>start_station_id</th>\n",
       "      <th>end_station_name</th>\n",
       "      <th>end_station_id</th>\n",
       "      <th>start_lat</th>\n",
       "      <th>start_lng</th>\n",
       "      <th>end_lat</th>\n",
       "      <th>end_lng</th>\n",
       "      <th>member_casual</th>\n",
       "    </tr>\n",
       "  </thead>\n",
       "  <tbody>\n",
       "    <tr>\n",
       "      <th>0</th>\n",
       "      <td>F9FB3CE11ED23849</td>\n",
       "      <td>electric_bike</td>\n",
       "      <td>2024-06-01 14:14:05.636</td>\n",
       "      <td>2024-06-01 14:23:22.715</td>\n",
       "      <td>Oakland Ave</td>\n",
       "      <td>JC022</td>\n",
       "      <td>Hamilton Park</td>\n",
       "      <td>JC009</td>\n",
       "      <td>40.737583</td>\n",
       "      <td>-74.052306</td>\n",
       "      <td>40.727596</td>\n",
       "      <td>-74.044247</td>\n",
       "      <td>member</td>\n",
       "    </tr>\n",
       "    <tr>\n",
       "      <th>1</th>\n",
       "      <td>A2E8CFCCD4895D09</td>\n",
       "      <td>electric_bike</td>\n",
       "      <td>2024-06-09 20:40:09.263</td>\n",
       "      <td>2024-06-09 21:00:58.479</td>\n",
       "      <td>Oakland Ave</td>\n",
       "      <td>JC022</td>\n",
       "      <td>Washington St</td>\n",
       "      <td>JC098</td>\n",
       "      <td>40.737555</td>\n",
       "      <td>-74.052441</td>\n",
       "      <td>40.724294</td>\n",
       "      <td>-74.035483</td>\n",
       "      <td>casual</td>\n",
       "    </tr>\n",
       "    <tr>\n",
       "      <th>2</th>\n",
       "      <td>10CE457D6A694BA5</td>\n",
       "      <td>classic_bike</td>\n",
       "      <td>2024-06-09 08:11:40.035</td>\n",
       "      <td>2024-06-09 08:23:22.790</td>\n",
       "      <td>Oakland Ave</td>\n",
       "      <td>JC022</td>\n",
       "      <td>Hoboken Terminal - Hudson St &amp; Hudson Pl</td>\n",
       "      <td>HB101</td>\n",
       "      <td>40.737604</td>\n",
       "      <td>-74.052478</td>\n",
       "      <td>40.735938</td>\n",
       "      <td>-74.030305</td>\n",
       "      <td>casual</td>\n",
       "    </tr>\n",
       "    <tr>\n",
       "      <th>3</th>\n",
       "      <td>CC23E216CED642D8</td>\n",
       "      <td>electric_bike</td>\n",
       "      <td>2024-06-20 16:45:05.945</td>\n",
       "      <td>2024-06-20 16:54:39.220</td>\n",
       "      <td>Oakland Ave</td>\n",
       "      <td>JC022</td>\n",
       "      <td>Hoboken Terminal - Hudson St &amp; Hudson Pl</td>\n",
       "      <td>HB101</td>\n",
       "      <td>40.737493</td>\n",
       "      <td>-74.052295</td>\n",
       "      <td>40.735938</td>\n",
       "      <td>-74.030305</td>\n",
       "      <td>member</td>\n",
       "    </tr>\n",
       "    <tr>\n",
       "      <th>4</th>\n",
       "      <td>890DB2D549468FB0</td>\n",
       "      <td>electric_bike</td>\n",
       "      <td>2024-06-25 10:01:29.832</td>\n",
       "      <td>2024-06-25 10:12:10.936</td>\n",
       "      <td>Oakland Ave</td>\n",
       "      <td>JC022</td>\n",
       "      <td>Oakland Ave</td>\n",
       "      <td>JC022</td>\n",
       "      <td>40.737599</td>\n",
       "      <td>-74.052386</td>\n",
       "      <td>40.737604</td>\n",
       "      <td>-74.052478</td>\n",
       "      <td>member</td>\n",
       "    </tr>\n",
       "  </tbody>\n",
       "</table>\n",
       "</div>"
      ],
      "text/plain": [
       "            ride_id  rideable_type               started_at  \\\n",
       "0  F9FB3CE11ED23849  electric_bike  2024-06-01 14:14:05.636   \n",
       "1  A2E8CFCCD4895D09  electric_bike  2024-06-09 20:40:09.263   \n",
       "2  10CE457D6A694BA5   classic_bike  2024-06-09 08:11:40.035   \n",
       "3  CC23E216CED642D8  electric_bike  2024-06-20 16:45:05.945   \n",
       "4  890DB2D549468FB0  electric_bike  2024-06-25 10:01:29.832   \n",
       "\n",
       "                  ended_at start_station_name start_station_id  \\\n",
       "0  2024-06-01 14:23:22.715        Oakland Ave            JC022   \n",
       "1  2024-06-09 21:00:58.479        Oakland Ave            JC022   \n",
       "2  2024-06-09 08:23:22.790        Oakland Ave            JC022   \n",
       "3  2024-06-20 16:54:39.220        Oakland Ave            JC022   \n",
       "4  2024-06-25 10:12:10.936        Oakland Ave            JC022   \n",
       "\n",
       "                           end_station_name end_station_id  start_lat  \\\n",
       "0                             Hamilton Park          JC009  40.737583   \n",
       "1                             Washington St          JC098  40.737555   \n",
       "2  Hoboken Terminal - Hudson St & Hudson Pl          HB101  40.737604   \n",
       "3  Hoboken Terminal - Hudson St & Hudson Pl          HB101  40.737493   \n",
       "4                               Oakland Ave          JC022  40.737599   \n",
       "\n",
       "   start_lng    end_lat    end_lng member_casual  \n",
       "0 -74.052306  40.727596 -74.044247        member  \n",
       "1 -74.052441  40.724294 -74.035483        casual  \n",
       "2 -74.052478  40.735938 -74.030305        casual  \n",
       "3 -74.052295  40.735938 -74.030305        member  \n",
       "4 -74.052386  40.737604 -74.052478        member  "
      ]
     },
     "execution_count": 3,
     "metadata": {},
     "output_type": "execute_result"
    }
   ],
   "source": [
    "citi_bike_jun24.head()"
   ]
  },
  {
   "cell_type": "code",
   "execution_count": 4,
   "metadata": {},
   "outputs": [
    {
     "name": "stdout",
     "output_type": "stream",
     "text": [
      "<class 'pandas.core.frame.DataFrame'>\n",
      "RangeIndex: 113669 entries, 0 to 113668\n",
      "Data columns (total 13 columns):\n",
      " #   Column              Non-Null Count   Dtype  \n",
      "---  ------              --------------   -----  \n",
      " 0   ride_id             113669 non-null  object \n",
      " 1   rideable_type       113669 non-null  object \n",
      " 2   started_at          113669 non-null  object \n",
      " 3   ended_at            113669 non-null  object \n",
      " 4   start_station_name  113668 non-null  object \n",
      " 5   start_station_id    113668 non-null  object \n",
      " 6   end_station_name    113243 non-null  object \n",
      " 7   end_station_id      113222 non-null  object \n",
      " 8   start_lat           113669 non-null  float64\n",
      " 9   start_lng           113669 non-null  float64\n",
      " 10  end_lat             113614 non-null  float64\n",
      " 11  end_lng             113614 non-null  float64\n",
      " 12  member_casual       113669 non-null  object \n",
      "dtypes: float64(4), object(9)\n",
      "memory usage: 11.3+ MB\n"
     ]
    }
   ],
   "source": [
    "citi_bike_jun24.info()"
   ]
  },
  {
   "cell_type": "code",
   "execution_count": 5,
   "metadata": {},
   "outputs": [
    {
     "data": {
      "text/plain": [
       "(113669, 13)"
      ]
     },
     "execution_count": 5,
     "metadata": {},
     "output_type": "execute_result"
    }
   ],
   "source": [
    "citi_bike_jun24.shape"
   ]
  },
  {
   "cell_type": "code",
   "execution_count": 6,
   "metadata": {},
   "outputs": [
    {
     "data": {
      "text/plain": [
       "ride_id                 0\n",
       "rideable_type           0\n",
       "started_at              0\n",
       "ended_at                0\n",
       "start_station_name      1\n",
       "start_station_id        1\n",
       "end_station_name      426\n",
       "end_station_id        447\n",
       "start_lat               0\n",
       "start_lng               0\n",
       "end_lat                55\n",
       "end_lng                55\n",
       "member_casual           0\n",
       "dtype: int64"
      ]
     },
     "execution_count": 6,
     "metadata": {},
     "output_type": "execute_result"
    }
   ],
   "source": [
    "citi_bike_jun24.isnull().sum()"
   ]
  },
  {
   "cell_type": "code",
   "execution_count": 7,
   "metadata": {},
   "outputs": [],
   "source": [
    "citi_bike_jun24.dropna(how='all',subset=['start_station_name', 'start_station_id'], inplace=True)"
   ]
  },
  {
   "cell_type": "code",
   "execution_count": 8,
   "metadata": {},
   "outputs": [],
   "source": [
    "citi_bike_jun24.dropna(how='all',subset=['end_station_name','end_station_id'], inplace=True)"
   ]
  },
  {
   "cell_type": "code",
   "execution_count": 9,
   "metadata": {},
   "outputs": [],
   "source": [
    "citi_bike_jun24.dropna(how='all',subset=['end_lng', 'end_lat'], inplace=True)"
   ]
  },
  {
   "cell_type": "code",
   "execution_count": 10,
   "metadata": {},
   "outputs": [
    {
     "data": {
      "text/plain": [
       "ride_id                0\n",
       "rideable_type          0\n",
       "started_at             0\n",
       "ended_at               0\n",
       "start_station_name     0\n",
       "start_station_id       0\n",
       "end_station_name       0\n",
       "end_station_id        21\n",
       "start_lat              0\n",
       "start_lng              0\n",
       "end_lat                0\n",
       "end_lng                0\n",
       "member_casual          0\n",
       "dtype: int64"
      ]
     },
     "execution_count": 10,
     "metadata": {},
     "output_type": "execute_result"
    }
   ],
   "source": [
    "citi_bike_jun24.isnull().sum()"
   ]
  },
  {
   "cell_type": "code",
   "execution_count": 11,
   "metadata": {},
   "outputs": [],
   "source": [
    "citi_bike_jun24 = citi_bike_jun24.dropna(how='any')"
   ]
  },
  {
   "cell_type": "code",
   "execution_count": 13,
   "metadata": {},
   "outputs": [
    {
     "data": {
      "text/plain": [
       "ride_id               113221\n",
       "rideable_type         113221\n",
       "started_at            113221\n",
       "ended_at              113221\n",
       "start_station_name    113221\n",
       "start_station_id      113221\n",
       "end_station_name      113221\n",
       "end_station_id        113221\n",
       "start_lat             113221\n",
       "start_lng             113221\n",
       "end_lat               113221\n",
       "end_lng               113221\n",
       "member_casual         113221\n",
       "dtype: int64"
      ]
     },
     "execution_count": 13,
     "metadata": {},
     "output_type": "execute_result"
    }
   ],
   "source": [
    "citi_bike_jun24.count()"
   ]
  },
  {
   "cell_type": "code",
   "execution_count": 14,
   "metadata": {},
   "outputs": [
    {
     "name": "stderr",
     "output_type": "stream",
     "text": [
      "/var/folders/bb/58xtq6zd03z6j840hj_gdn9h0000gn/T/ipykernel_39248/3245643417.py:1: UserWarning: The argument 'infer_datetime_format' is deprecated and will be removed in a future version. A strict version of it is now the default, see https://pandas.pydata.org/pdeps/0004-consistent-to-datetime-parsing.html. You can safely remove this argument.\n",
      "  citi_bike_jun24['started_at'] = pd.to_datetime(\n"
     ]
    }
   ],
   "source": [
    "citi_bike_jun24['started_at'] = pd.to_datetime(\n",
    "    citi_bike_jun24['started_at'],\n",
    "    errors='coerce',\n",
    "    infer_datetime_format=True\n",
    ")"
   ]
  },
  {
   "cell_type": "code",
   "execution_count": 15,
   "metadata": {},
   "outputs": [
    {
     "name": "stderr",
     "output_type": "stream",
     "text": [
      "/var/folders/bb/58xtq6zd03z6j840hj_gdn9h0000gn/T/ipykernel_39248/4016549064.py:1: UserWarning: The argument 'infer_datetime_format' is deprecated and will be removed in a future version. A strict version of it is now the default, see https://pandas.pydata.org/pdeps/0004-consistent-to-datetime-parsing.html. You can safely remove this argument.\n",
      "  citi_bike_jun24['ended_at'] = pd.to_datetime(\n"
     ]
    }
   ],
   "source": [
    "citi_bike_jun24['ended_at'] = pd.to_datetime(\n",
    "    citi_bike_jun24['ended_at'],\n",
    "    errors='coerce',\n",
    "    infer_datetime_format=True\n",
    ")"
   ]
  },
  {
   "cell_type": "code",
   "execution_count": 16,
   "metadata": {},
   "outputs": [
    {
     "name": "stdout",
     "output_type": "stream",
     "text": [
      "<class 'pandas.core.frame.DataFrame'>\n",
      "Index: 113221 entries, 0 to 113668\n",
      "Data columns (total 13 columns):\n",
      " #   Column              Non-Null Count   Dtype         \n",
      "---  ------              --------------   -----         \n",
      " 0   ride_id             113221 non-null  object        \n",
      " 1   rideable_type       113221 non-null  object        \n",
      " 2   started_at          113221 non-null  datetime64[ns]\n",
      " 3   ended_at            113221 non-null  datetime64[ns]\n",
      " 4   start_station_name  113221 non-null  object        \n",
      " 5   start_station_id    113221 non-null  object        \n",
      " 6   end_station_name    113221 non-null  object        \n",
      " 7   end_station_id      113221 non-null  object        \n",
      " 8   start_lat           113221 non-null  float64       \n",
      " 9   start_lng           113221 non-null  float64       \n",
      " 10  end_lat             113221 non-null  float64       \n",
      " 11  end_lng             113221 non-null  float64       \n",
      " 12  member_casual       113221 non-null  object        \n",
      "dtypes: datetime64[ns](2), float64(4), object(7)\n",
      "memory usage: 12.1+ MB\n"
     ]
    }
   ],
   "source": [
    "citi_bike_jun24.info()"
   ]
  },
  {
   "cell_type": "code",
   "execution_count": 17,
   "metadata": {},
   "outputs": [],
   "source": [
    "citi_bike_clean = citi_bike_jun24"
   ]
  },
  {
   "cell_type": "code",
   "execution_count": 18,
   "metadata": {},
   "outputs": [],
   "source": [
    "citi_bike_clean.to_csv('citi_bike.csv', index=False)"
   ]
  }
 ],
 "metadata": {
  "kernelspec": {
   "display_name": "inclassfeb2024",
   "language": "python",
   "name": "python3"
  },
  "language_info": {
   "codemirror_mode": {
    "name": "ipython",
    "version": 3
   },
   "file_extension": ".py",
   "mimetype": "text/x-python",
   "name": "python",
   "nbconvert_exporter": "python",
   "pygments_lexer": "ipython3",
   "version": "3.11.7"
  }
 },
 "nbformat": 4,
 "nbformat_minor": 2
}
